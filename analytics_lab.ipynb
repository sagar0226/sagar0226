{
  "nbformat": 4,
  "nbformat_minor": 0,
  "metadata": {
    "colab": {
      "provenance": [],
      "include_colab_link": true
    },
    "kernelspec": {
      "name": "python3",
      "display_name": "Python 3"
    },
    "language_info": {
      "name": "python"
    }
  },
  "cells": [
    {
      "cell_type": "markdown",
      "metadata": {
        "id": "view-in-github",
        "colab_type": "text"
      },
      "source": [
        "<a href=\"https://colab.research.google.com/github/sagar0226/sagar0226/blob/main/analytics_lab.ipynb\" target=\"_parent\"><img src=\"https://colab.research.google.com/assets/colab-badge.svg\" alt=\"Open In Colab\"/></a>"
      ]
    },
    {
      "cell_type": "code",
      "execution_count": 1,
      "metadata": {
        "id": "eaWTHQNkPZuy",
        "colab": {
          "base_uri": "https://localhost:8080/"
        },
        "outputId": "52fe9a45-7e5e-4a33-a9f6-c995ca110704"
      },
      "outputs": [
        {
          "output_type": "stream",
          "name": "stdout",
          "text": [
            "Looking in indexes: https://pypi.org/simple, https://us-python.pkg.dev/colab-wheels/public/simple/\n",
            "Collecting pyspark\n",
            "  Downloading pyspark-3.3.1.tar.gz (281.4 MB)\n",
            "\u001b[2K     \u001b[90m━━━━━━━━━━━━━━━━━━━━━━━━━━━━━━━━━━━━━━━\u001b[0m \u001b[32m281.4/281.4 MB\u001b[0m \u001b[31m3.5 MB/s\u001b[0m eta \u001b[36m0:00:00\u001b[0m\n",
            "\u001b[?25h  Preparing metadata (setup.py) ... \u001b[?25l\u001b[?25hdone\n",
            "Collecting py4j==0.10.9.5\n",
            "  Downloading py4j-0.10.9.5-py2.py3-none-any.whl (199 kB)\n",
            "\u001b[2K     \u001b[90m━━━━━━━━━━━━━━━━━━━━━━━━━━━━━━━━━━━━━━\u001b[0m \u001b[32m199.7/199.7 KB\u001b[0m \u001b[31m20.1 MB/s\u001b[0m eta \u001b[36m0:00:00\u001b[0m\n",
            "\u001b[?25hBuilding wheels for collected packages: pyspark\n",
            "  Building wheel for pyspark (setup.py) ... \u001b[?25l\u001b[?25hdone\n",
            "  Created wheel for pyspark: filename=pyspark-3.3.1-py2.py3-none-any.whl size=281845512 sha256=63c3bcf4d37e2b59354c45d1d339f70133529a454602bbe75135d5b42255069f\n",
            "  Stored in directory: /root/.cache/pip/wheels/43/dc/11/ec201cd671da62fa9c5cc77078235e40722170ceba231d7598\n",
            "Successfully built pyspark\n",
            "Installing collected packages: py4j, pyspark\n",
            "Successfully installed py4j-0.10.9.5 pyspark-3.3.1\n"
          ]
        }
      ],
      "source": [
        "pip install pyspark"
      ]
    },
    {
      "cell_type": "code",
      "source": [
        "from pyspark.sql import SparkSession, SQLContext\n",
        "from pyspark.context import SparkContext\n",
        "from pyspark.sql.functions import * \n",
        "from pyspark.sql.types import * "
      ],
      "metadata": {
        "id": "OzAeX3eYNGNS"
      },
      "execution_count": 52,
      "outputs": []
    },
    {
      "cell_type": "code",
      "source": [
        "#@title Default title text\n",
        "## Download Input dataset for analytics\n",
        "# https://propensity-labs-screening.s3.amazonaws.com/analytics/analytics_input.csv"
      ],
      "metadata": {
        "id": "OrMgxoJdS4iE"
      },
      "execution_count": 53,
      "outputs": []
    },
    {
      "cell_type": "code",
      "source": [
        "spark = SparkSession.builder.appName('analytics_lab').getOrCreate()"
      ],
      "metadata": {
        "id": "kXN-mlUhM7aQ"
      },
      "execution_count": 54,
      "outputs": []
    },
    {
      "cell_type": "code",
      "source": [
        "#Created Spark Session\n",
        "spark"
      ],
      "metadata": {
        "id": "bJYXF2LoQTDy",
        "colab": {
          "base_uri": "https://localhost:8080/",
          "height": 222
        },
        "outputId": "877bda42-6c8a-4802-8836-1cf600ff5437"
      },
      "execution_count": 55,
      "outputs": [
        {
          "output_type": "execute_result",
          "data": {
            "text/plain": [
              "<pyspark.sql.session.SparkSession at 0x7f4669f40b20>"
            ],
            "text/html": [
              "\n",
              "            <div>\n",
              "                <p><b>SparkSession - in-memory</b></p>\n",
              "                \n",
              "        <div>\n",
              "            <p><b>SparkContext</b></p>\n",
              "\n",
              "            <p><a href=\"http://4c7088e96597:4040\">Spark UI</a></p>\n",
              "\n",
              "            <dl>\n",
              "              <dt>Version</dt>\n",
              "                <dd><code>v3.3.1</code></dd>\n",
              "              <dt>Master</dt>\n",
              "                <dd><code>local[*]</code></dd>\n",
              "              <dt>AppName</dt>\n",
              "                <dd><code>analytics_lab</code></dd>\n",
              "            </dl>\n",
              "        </div>\n",
              "        \n",
              "            </div>\n",
              "        "
            ]
          },
          "metadata": {},
          "execution_count": 55
        }
      ]
    },
    {
      "cell_type": "code",
      "source": [
        "path = \"/content/analytics_input.csv\"\n"
      ],
      "metadata": {
        "id": "hbBxMhcEPc9b"
      },
      "execution_count": 56,
      "outputs": []
    },
    {
      "cell_type": "code",
      "source": [
        "import os\n",
        "\n",
        "# Install java\n",
        "! apt-get install -y openjdk-8-jdk-headless -qq > /dev/null\n",
        "os.environ[\"JAVA_HOME\"] = \"/usr/lib/jvm/java-8-openjdk-amd64\"\n",
        "os.environ[\"PATH\"] = os.environ[\"JAVA_HOME\"] + \"/bin:\" + os.environ[\"PATH\"]\n",
        "! java -version\n",
        "\n",
        "# Install pyspark\n",
        "! pip install --ignore-installed -q pyspark==2.4.4\n",
        "\n",
        "# Install Spark NLP\n",
        "! pip install --ignore-installed -q spark-nlp==2.5.1"
      ],
      "metadata": {
        "colab": {
          "base_uri": "https://localhost:8080/"
        },
        "id": "gLb2I3jPUD-z",
        "outputId": "805613af-489b-4bfa-d24f-7d703bb97e3f"
      },
      "execution_count": 57,
      "outputs": [
        {
          "output_type": "stream",
          "name": "stdout",
          "text": [
            "openjdk version \"1.8.0_352\"\n",
            "OpenJDK Runtime Environment (build 1.8.0_352-8u352-ga-1~20.04-b08)\n",
            "OpenJDK 64-Bit Server VM (build 25.352-b08, mixed mode)\n"
          ]
        }
      ]
    },
    {
      "cell_type": "code",
      "source": [
        "#Read CSV to Dataframe\n",
        "df = spark.read.option(\"header\",'True').option('delimiter', ',').csv(path)\n",
        "\n",
        "#Display Scheme\n",
        "df.printSchema()\n"
      ],
      "metadata": {
        "id": "6vynaG5uQVpa",
        "colab": {
          "base_uri": "https://localhost:8080/"
        },
        "outputId": "5b067108-5d7b-4af5-f195-d13f4e7a2bfb"
      },
      "execution_count": 85,
      "outputs": [
        {
          "output_type": "stream",
          "name": "stdout",
          "text": [
            "root\n",
            " |-- DRG Definition: string (nullable = true)\n",
            " |-- Provider Id: string (nullable = true)\n",
            " |-- Provider Name: string (nullable = true)\n",
            " |-- Provider Street Address: string (nullable = true)\n",
            " |-- Provider City: string (nullable = true)\n",
            " |-- Provider State: string (nullable = true)\n",
            " |-- Provider Zip Code: string (nullable = true)\n",
            " |-- Hospital Referral Region Description: string (nullable = true)\n",
            " |--  Total Discharges : string (nullable = true)\n",
            " |--  Average Covered Charges : string (nullable = true)\n",
            " |--  Average Total Payments : string (nullable = true)\n",
            " |-- Average Medicare Payments: string (nullable = true)\n",
            "\n"
          ]
        }
      ]
    },
    {
      "cell_type": "code",
      "source": [
        "df.show()"
      ],
      "metadata": {
        "colab": {
          "base_uri": "https://localhost:8080/"
        },
        "id": "0B_pe2wRVILb",
        "outputId": "140c8f18-13a2-4be7-a53c-8cf6d76e9486"
      },
      "execution_count": 86,
      "outputs": [
        {
          "output_type": "stream",
          "name": "stdout",
          "text": [
            "+--------------------+-----------+--------------------+-----------------------+-------------+--------------+-----------------+------------------------------------+------------------+-------------------------+------------------------+-------------------------+\n",
            "|      DRG Definition|Provider Id|       Provider Name|Provider Street Address|Provider City|Provider State|Provider Zip Code|Hospital Referral Region Description| Total Discharges | Average Covered Charges | Average Total Payments |Average Medicare Payments|\n",
            "+--------------------+-----------+--------------------+-----------------------+-------------+--------------+-----------------+------------------------------------+------------------+-------------------------+------------------------+-------------------------+\n",
            "|039 - EXTRACRANIA...|      10001|SOUTHEAST ALABAMA...|   1108 ROSS CLARK C...|       DOTHAN|            AL|            36301|                         AL - Dothan|                91|                $32963.07|                $5777.24|                 $4763.73|\n",
            "|039 - EXTRACRANIA...|      10005|MARSHALL MEDICAL ...|   2505 U S HIGHWAY ...|         BOAZ|            AL|            35957|                     AL - Birmingham|                14|                $15131.85|                $5787.57|                 $4976.71|\n",
            "|039 - EXTRACRANIA...|      10006|ELIZA COFFEE MEMO...|     205 MARENGO STREET|     FLORENCE|            AL|            35631|                     AL - Birmingham|                24|                $37560.37|                $5434.95|                 $4453.79|\n",
            "|039 - EXTRACRANIA...|      10011|   ST VINCENT'S EAST|   50 MEDICAL PARK E...|   BIRMINGHAM|            AL|            35235|                     AL - Birmingham|                25|                $13998.28|                $5417.56|                 $4129.16|\n",
            "|039 - EXTRACRANIA...|      10016|SHELBY BAPTIST ME...|   1000 FIRST STREET...|    ALABASTER|            AL|            35007|                     AL - Birmingham|                18|                $31633.27|                $5658.33|                 $4851.44|\n",
            "|039 - EXTRACRANIA...|      10023|BAPTIST MEDICAL C...|   2105 EAST SOUTH B...|   MONTGOMERY|            AL|            36116|                     AL - Montgomery|                67|                $16920.79|                $6653.80|                 $5374.14|\n",
            "|039 - EXTRACRANIA...|      10029|EAST ALABAMA MEDI...|   2000 PEPPERELL PA...|      OPELIKA|            AL|            36801|                     AL - Birmingham|                51|                $11977.13|                $5834.74|                 $4761.41|\n",
            "|039 - EXTRACRANIA...|      10033|UNIVERSITY OF ALA...|   619 SOUTH 19TH ST...|   BIRMINGHAM|            AL|            35233|                     AL - Birmingham|                32|                $35841.09|                $8031.12|                 $5858.50|\n",
            "|039 - EXTRACRANIA...|      10039| HUNTSVILLE HOSPITAL|          101 SIVLEY RD|   HUNTSVILLE|            AL|            35801|                     AL - Huntsville|               135|                $28523.39|                $6113.38|                 $5228.40|\n",
            "|039 - EXTRACRANIA...|      10040|GADSDEN REGIONAL ...|   1007 GOODYEAR AVENUE|      GADSDEN|            AL|            35903|                     AL - Birmingham|                34|                $75233.38|                $5541.05|                 $4386.94|\n",
            "|039 - EXTRACRANIA...|      10046|RIVERVIEW REGIONA...|   600 SOUTH THIRD S...|      GADSDEN|            AL|            35901|                     AL - Birmingham|                14|                $67327.92|                $5461.57|                 $4493.57|\n",
            "|039 - EXTRACRANIA...|      10055|    FLOWERS HOSPITAL|   4370 WEST MAIN ST...|       DOTHAN|            AL|            36305|                         AL - Dothan|                45|                $39607.28|                $5356.28|                 $4408.20|\n",
            "|039 - EXTRACRANIA...|      10056|ST VINCENT'S BIRM...|   810 ST VINCENT'S ...|   BIRMINGHAM|            AL|            35205|                     AL - Birmingham|                43|                $22862.23|                $5374.65|                 $4186.02|\n",
            "|039 - EXTRACRANIA...|      10078|NORTHEAST ALABAMA...|   400 EAST 10TH STREET|     ANNISTON|            AL|            36207|                     AL - Birmingham|                21|                $31110.85|                $5366.23|                 $4376.23|\n",
            "|039 - EXTRACRANIA...|      10083|SOUTH BALDWIN REG...|   1613 NORTH MCKENZ...|        FOLEY|            AL|            36535|                         AL - Mobile|                15|                $25411.33|                $5282.93|                 $4383.73|\n",
            "|039 - EXTRACRANIA...|      10085|DECATUR GENERAL H...|     1201 7TH STREET SE|      DECATUR|            AL|            35609|                     AL - Huntsville|                27|                 $9234.51|                $5676.55|                 $4509.11|\n",
            "|039 - EXTRACRANIA...|      10090| PROVIDENCE HOSPITAL|   6801 AIRPORT BOUL...|       MOBILE|            AL|            36608|                         AL - Mobile|                27|                $15895.85|                $5930.11|                 $3972.85|\n",
            "|039 - EXTRACRANIA...|      10092|D C H REGIONAL ME...|   809 UNIVERSITY BO...|   TUSCALOOSA|            AL|            35401|                     AL - Tuscaloosa|                31|                $19721.16|                $6192.54|                 $5179.38|\n",
            "|039 - EXTRACRANIA...|      10100|     THOMAS HOSPITAL|      750 MORPHY AVENUE|     FAIRHOPE|            AL|            36532|                         AL - Mobile|                18|                $10710.88|                $4968.00|                 $3898.88|\n",
            "|039 - EXTRACRANIA...|      10103|BAPTIST MEDICAL C...|   701 PRINCETON AVE...|   BIRMINGHAM|            AL|            35211|                     AL - Birmingham|                33|                $51343.75|                $5996.00|                 $4962.45|\n",
            "+--------------------+-----------+--------------------+-----------------------+-------------+--------------+-----------------+------------------------------------+------------------+-------------------------+------------------------+-------------------------+\n",
            "only showing top 20 rows\n",
            "\n"
          ]
        }
      ]
    },
    {
      "cell_type": "code",
      "source": [
        "cols = df.columns\n",
        "new_cols = [col.lower() for col in cols]\n",
        "\n",
        "for i in range(len(cols)):\n",
        "    df = df.withColumnRenamed(cols[i], new_cols[i])\n",
        "\n",
        "df.show()\n"
      ],
      "metadata": {
        "colab": {
          "base_uri": "https://localhost:8080/"
        },
        "id": "oa74ZOrVdDuD",
        "outputId": "49e72aeb-0f3f-458c-f94a-8f6188eaab27"
      },
      "execution_count": 87,
      "outputs": [
        {
          "output_type": "stream",
          "name": "stdout",
          "text": [
            "+--------------------+-----------+--------------------+-----------------------+-------------+--------------+-----------------+------------------------------------+------------------+-------------------------+------------------------+-------------------------+\n",
            "|      drg definition|provider id|       provider name|provider street address|provider city|provider state|provider zip code|hospital referral region description| total discharges | average covered charges | average total payments |average medicare payments|\n",
            "+--------------------+-----------+--------------------+-----------------------+-------------+--------------+-----------------+------------------------------------+------------------+-------------------------+------------------------+-------------------------+\n",
            "|039 - EXTRACRANIA...|      10001|SOUTHEAST ALABAMA...|   1108 ROSS CLARK C...|       DOTHAN|            AL|            36301|                         AL - Dothan|                91|                $32963.07|                $5777.24|                 $4763.73|\n",
            "|039 - EXTRACRANIA...|      10005|MARSHALL MEDICAL ...|   2505 U S HIGHWAY ...|         BOAZ|            AL|            35957|                     AL - Birmingham|                14|                $15131.85|                $5787.57|                 $4976.71|\n",
            "|039 - EXTRACRANIA...|      10006|ELIZA COFFEE MEMO...|     205 MARENGO STREET|     FLORENCE|            AL|            35631|                     AL - Birmingham|                24|                $37560.37|                $5434.95|                 $4453.79|\n",
            "|039 - EXTRACRANIA...|      10011|   ST VINCENT'S EAST|   50 MEDICAL PARK E...|   BIRMINGHAM|            AL|            35235|                     AL - Birmingham|                25|                $13998.28|                $5417.56|                 $4129.16|\n",
            "|039 - EXTRACRANIA...|      10016|SHELBY BAPTIST ME...|   1000 FIRST STREET...|    ALABASTER|            AL|            35007|                     AL - Birmingham|                18|                $31633.27|                $5658.33|                 $4851.44|\n",
            "|039 - EXTRACRANIA...|      10023|BAPTIST MEDICAL C...|   2105 EAST SOUTH B...|   MONTGOMERY|            AL|            36116|                     AL - Montgomery|                67|                $16920.79|                $6653.80|                 $5374.14|\n",
            "|039 - EXTRACRANIA...|      10029|EAST ALABAMA MEDI...|   2000 PEPPERELL PA...|      OPELIKA|            AL|            36801|                     AL - Birmingham|                51|                $11977.13|                $5834.74|                 $4761.41|\n",
            "|039 - EXTRACRANIA...|      10033|UNIVERSITY OF ALA...|   619 SOUTH 19TH ST...|   BIRMINGHAM|            AL|            35233|                     AL - Birmingham|                32|                $35841.09|                $8031.12|                 $5858.50|\n",
            "|039 - EXTRACRANIA...|      10039| HUNTSVILLE HOSPITAL|          101 SIVLEY RD|   HUNTSVILLE|            AL|            35801|                     AL - Huntsville|               135|                $28523.39|                $6113.38|                 $5228.40|\n",
            "|039 - EXTRACRANIA...|      10040|GADSDEN REGIONAL ...|   1007 GOODYEAR AVENUE|      GADSDEN|            AL|            35903|                     AL - Birmingham|                34|                $75233.38|                $5541.05|                 $4386.94|\n",
            "|039 - EXTRACRANIA...|      10046|RIVERVIEW REGIONA...|   600 SOUTH THIRD S...|      GADSDEN|            AL|            35901|                     AL - Birmingham|                14|                $67327.92|                $5461.57|                 $4493.57|\n",
            "|039 - EXTRACRANIA...|      10055|    FLOWERS HOSPITAL|   4370 WEST MAIN ST...|       DOTHAN|            AL|            36305|                         AL - Dothan|                45|                $39607.28|                $5356.28|                 $4408.20|\n",
            "|039 - EXTRACRANIA...|      10056|ST VINCENT'S BIRM...|   810 ST VINCENT'S ...|   BIRMINGHAM|            AL|            35205|                     AL - Birmingham|                43|                $22862.23|                $5374.65|                 $4186.02|\n",
            "|039 - EXTRACRANIA...|      10078|NORTHEAST ALABAMA...|   400 EAST 10TH STREET|     ANNISTON|            AL|            36207|                     AL - Birmingham|                21|                $31110.85|                $5366.23|                 $4376.23|\n",
            "|039 - EXTRACRANIA...|      10083|SOUTH BALDWIN REG...|   1613 NORTH MCKENZ...|        FOLEY|            AL|            36535|                         AL - Mobile|                15|                $25411.33|                $5282.93|                 $4383.73|\n",
            "|039 - EXTRACRANIA...|      10085|DECATUR GENERAL H...|     1201 7TH STREET SE|      DECATUR|            AL|            35609|                     AL - Huntsville|                27|                 $9234.51|                $5676.55|                 $4509.11|\n",
            "|039 - EXTRACRANIA...|      10090| PROVIDENCE HOSPITAL|   6801 AIRPORT BOUL...|       MOBILE|            AL|            36608|                         AL - Mobile|                27|                $15895.85|                $5930.11|                 $3972.85|\n",
            "|039 - EXTRACRANIA...|      10092|D C H REGIONAL ME...|   809 UNIVERSITY BO...|   TUSCALOOSA|            AL|            35401|                     AL - Tuscaloosa|                31|                $19721.16|                $6192.54|                 $5179.38|\n",
            "|039 - EXTRACRANIA...|      10100|     THOMAS HOSPITAL|      750 MORPHY AVENUE|     FAIRHOPE|            AL|            36532|                         AL - Mobile|                18|                $10710.88|                $4968.00|                 $3898.88|\n",
            "|039 - EXTRACRANIA...|      10103|BAPTIST MEDICAL C...|   701 PRINCETON AVE...|   BIRMINGHAM|            AL|            35211|                     AL - Birmingham|                33|                $51343.75|                $5996.00|                 $4962.45|\n",
            "+--------------------+-----------+--------------------+-----------------------+-------------+--------------+-----------------+------------------------------------+------------------+-------------------------+------------------------+-------------------------+\n",
            "only showing top 20 rows\n",
            "\n"
          ]
        }
      ]
    },
    {
      "cell_type": "code",
      "source": [
        "#trim the initial spaces\n",
        "\n",
        "from pyspark.sql.functions import trim\n",
        "\n",
        "cols = df.columns\n",
        "new_cols = [col.strip() for col in cols]\n",
        "df = df.select([trim(c).alias(nc) for c, nc in zip(cols, new_cols)])\n",
        "df.show()"
      ],
      "metadata": {
        "colab": {
          "base_uri": "https://localhost:8080/"
        },
        "id": "sw3GarHjeOq_",
        "outputId": "e1abfbf7-b923-4b77-824b-767d91240074"
      },
      "execution_count": 88,
      "outputs": [
        {
          "output_type": "stream",
          "name": "stdout",
          "text": [
            "+--------------------+-----------+--------------------+-----------------------+-------------+--------------+-----------------+------------------------------------+----------------+-----------------------+----------------------+-------------------------+\n",
            "|      drg definition|provider id|       provider name|provider street address|provider city|provider state|provider zip code|hospital referral region description|total discharges|average covered charges|average total payments|average medicare payments|\n",
            "+--------------------+-----------+--------------------+-----------------------+-------------+--------------+-----------------+------------------------------------+----------------+-----------------------+----------------------+-------------------------+\n",
            "|039 - EXTRACRANIA...|      10001|SOUTHEAST ALABAMA...|   1108 ROSS CLARK C...|       DOTHAN|            AL|            36301|                         AL - Dothan|              91|              $32963.07|              $5777.24|                 $4763.73|\n",
            "|039 - EXTRACRANIA...|      10005|MARSHALL MEDICAL ...|   2505 U S HIGHWAY ...|         BOAZ|            AL|            35957|                     AL - Birmingham|              14|              $15131.85|              $5787.57|                 $4976.71|\n",
            "|039 - EXTRACRANIA...|      10006|ELIZA COFFEE MEMO...|     205 MARENGO STREET|     FLORENCE|            AL|            35631|                     AL - Birmingham|              24|              $37560.37|              $5434.95|                 $4453.79|\n",
            "|039 - EXTRACRANIA...|      10011|   ST VINCENT'S EAST|   50 MEDICAL PARK E...|   BIRMINGHAM|            AL|            35235|                     AL - Birmingham|              25|              $13998.28|              $5417.56|                 $4129.16|\n",
            "|039 - EXTRACRANIA...|      10016|SHELBY BAPTIST ME...|   1000 FIRST STREET...|    ALABASTER|            AL|            35007|                     AL - Birmingham|              18|              $31633.27|              $5658.33|                 $4851.44|\n",
            "|039 - EXTRACRANIA...|      10023|BAPTIST MEDICAL C...|   2105 EAST SOUTH B...|   MONTGOMERY|            AL|            36116|                     AL - Montgomery|              67|              $16920.79|              $6653.80|                 $5374.14|\n",
            "|039 - EXTRACRANIA...|      10029|EAST ALABAMA MEDI...|   2000 PEPPERELL PA...|      OPELIKA|            AL|            36801|                     AL - Birmingham|              51|              $11977.13|              $5834.74|                 $4761.41|\n",
            "|039 - EXTRACRANIA...|      10033|UNIVERSITY OF ALA...|   619 SOUTH 19TH ST...|   BIRMINGHAM|            AL|            35233|                     AL - Birmingham|              32|              $35841.09|              $8031.12|                 $5858.50|\n",
            "|039 - EXTRACRANIA...|      10039| HUNTSVILLE HOSPITAL|          101 SIVLEY RD|   HUNTSVILLE|            AL|            35801|                     AL - Huntsville|             135|              $28523.39|              $6113.38|                 $5228.40|\n",
            "|039 - EXTRACRANIA...|      10040|GADSDEN REGIONAL ...|   1007 GOODYEAR AVENUE|      GADSDEN|            AL|            35903|                     AL - Birmingham|              34|              $75233.38|              $5541.05|                 $4386.94|\n",
            "|039 - EXTRACRANIA...|      10046|RIVERVIEW REGIONA...|   600 SOUTH THIRD S...|      GADSDEN|            AL|            35901|                     AL - Birmingham|              14|              $67327.92|              $5461.57|                 $4493.57|\n",
            "|039 - EXTRACRANIA...|      10055|    FLOWERS HOSPITAL|   4370 WEST MAIN ST...|       DOTHAN|            AL|            36305|                         AL - Dothan|              45|              $39607.28|              $5356.28|                 $4408.20|\n",
            "|039 - EXTRACRANIA...|      10056|ST VINCENT'S BIRM...|   810 ST VINCENT'S ...|   BIRMINGHAM|            AL|            35205|                     AL - Birmingham|              43|              $22862.23|              $5374.65|                 $4186.02|\n",
            "|039 - EXTRACRANIA...|      10078|NORTHEAST ALABAMA...|   400 EAST 10TH STREET|     ANNISTON|            AL|            36207|                     AL - Birmingham|              21|              $31110.85|              $5366.23|                 $4376.23|\n",
            "|039 - EXTRACRANIA...|      10083|SOUTH BALDWIN REG...|   1613 NORTH MCKENZ...|        FOLEY|            AL|            36535|                         AL - Mobile|              15|              $25411.33|              $5282.93|                 $4383.73|\n",
            "|039 - EXTRACRANIA...|      10085|DECATUR GENERAL H...|     1201 7TH STREET SE|      DECATUR|            AL|            35609|                     AL - Huntsville|              27|               $9234.51|              $5676.55|                 $4509.11|\n",
            "|039 - EXTRACRANIA...|      10090| PROVIDENCE HOSPITAL|   6801 AIRPORT BOUL...|       MOBILE|            AL|            36608|                         AL - Mobile|              27|              $15895.85|              $5930.11|                 $3972.85|\n",
            "|039 - EXTRACRANIA...|      10092|D C H REGIONAL ME...|   809 UNIVERSITY BO...|   TUSCALOOSA|            AL|            35401|                     AL - Tuscaloosa|              31|              $19721.16|              $6192.54|                 $5179.38|\n",
            "|039 - EXTRACRANIA...|      10100|     THOMAS HOSPITAL|      750 MORPHY AVENUE|     FAIRHOPE|            AL|            36532|                         AL - Mobile|              18|              $10710.88|              $4968.00|                 $3898.88|\n",
            "|039 - EXTRACRANIA...|      10103|BAPTIST MEDICAL C...|   701 PRINCETON AVE...|   BIRMINGHAM|            AL|            35211|                     AL - Birmingham|              33|              $51343.75|              $5996.00|                 $4962.45|\n",
            "+--------------------+-----------+--------------------+-----------------------+-------------+--------------+-----------------+------------------------------------+----------------+-----------------------+----------------------+-------------------------+\n",
            "only showing top 20 rows\n",
            "\n"
          ]
        }
      ]
    },
    {
      "cell_type": "code",
      "source": [
        "#Change Column names to remove spaces, lower case and replace spaces in column names with \"_\" (underscore)\n",
        "from pyspark.sql import functions as F\n",
        "\n",
        "\n",
        "df = df.select([F.col(col).alias(col.replace(' ', '_')) for col in df.columns])\n",
        "\n",
        "df.show()"
      ],
      "metadata": {
        "id": "O8yoK7csQbyc",
        "colab": {
          "base_uri": "https://localhost:8080/"
        },
        "outputId": "9bda3816-b8a9-4aea-b7eb-d16fdb4c6235"
      },
      "execution_count": 89,
      "outputs": [
        {
          "output_type": "stream",
          "name": "stdout",
          "text": [
            "+--------------------+-----------+--------------------+-----------------------+-------------+--------------+-----------------+------------------------------------+----------------+-----------------------+----------------------+-------------------------+\n",
            "|      drg_definition|provider_id|       provider_name|provider_street_address|provider_city|provider_state|provider_zip_code|hospital_referral_region_description|total_discharges|average_covered_charges|average_total_payments|average_medicare_payments|\n",
            "+--------------------+-----------+--------------------+-----------------------+-------------+--------------+-----------------+------------------------------------+----------------+-----------------------+----------------------+-------------------------+\n",
            "|039 - EXTRACRANIA...|      10001|SOUTHEAST ALABAMA...|   1108 ROSS CLARK C...|       DOTHAN|            AL|            36301|                         AL - Dothan|              91|              $32963.07|              $5777.24|                 $4763.73|\n",
            "|039 - EXTRACRANIA...|      10005|MARSHALL MEDICAL ...|   2505 U S HIGHWAY ...|         BOAZ|            AL|            35957|                     AL - Birmingham|              14|              $15131.85|              $5787.57|                 $4976.71|\n",
            "|039 - EXTRACRANIA...|      10006|ELIZA COFFEE MEMO...|     205 MARENGO STREET|     FLORENCE|            AL|            35631|                     AL - Birmingham|              24|              $37560.37|              $5434.95|                 $4453.79|\n",
            "|039 - EXTRACRANIA...|      10011|   ST VINCENT'S EAST|   50 MEDICAL PARK E...|   BIRMINGHAM|            AL|            35235|                     AL - Birmingham|              25|              $13998.28|              $5417.56|                 $4129.16|\n",
            "|039 - EXTRACRANIA...|      10016|SHELBY BAPTIST ME...|   1000 FIRST STREET...|    ALABASTER|            AL|            35007|                     AL - Birmingham|              18|              $31633.27|              $5658.33|                 $4851.44|\n",
            "|039 - EXTRACRANIA...|      10023|BAPTIST MEDICAL C...|   2105 EAST SOUTH B...|   MONTGOMERY|            AL|            36116|                     AL - Montgomery|              67|              $16920.79|              $6653.80|                 $5374.14|\n",
            "|039 - EXTRACRANIA...|      10029|EAST ALABAMA MEDI...|   2000 PEPPERELL PA...|      OPELIKA|            AL|            36801|                     AL - Birmingham|              51|              $11977.13|              $5834.74|                 $4761.41|\n",
            "|039 - EXTRACRANIA...|      10033|UNIVERSITY OF ALA...|   619 SOUTH 19TH ST...|   BIRMINGHAM|            AL|            35233|                     AL - Birmingham|              32|              $35841.09|              $8031.12|                 $5858.50|\n",
            "|039 - EXTRACRANIA...|      10039| HUNTSVILLE HOSPITAL|          101 SIVLEY RD|   HUNTSVILLE|            AL|            35801|                     AL - Huntsville|             135|              $28523.39|              $6113.38|                 $5228.40|\n",
            "|039 - EXTRACRANIA...|      10040|GADSDEN REGIONAL ...|   1007 GOODYEAR AVENUE|      GADSDEN|            AL|            35903|                     AL - Birmingham|              34|              $75233.38|              $5541.05|                 $4386.94|\n",
            "|039 - EXTRACRANIA...|      10046|RIVERVIEW REGIONA...|   600 SOUTH THIRD S...|      GADSDEN|            AL|            35901|                     AL - Birmingham|              14|              $67327.92|              $5461.57|                 $4493.57|\n",
            "|039 - EXTRACRANIA...|      10055|    FLOWERS HOSPITAL|   4370 WEST MAIN ST...|       DOTHAN|            AL|            36305|                         AL - Dothan|              45|              $39607.28|              $5356.28|                 $4408.20|\n",
            "|039 - EXTRACRANIA...|      10056|ST VINCENT'S BIRM...|   810 ST VINCENT'S ...|   BIRMINGHAM|            AL|            35205|                     AL - Birmingham|              43|              $22862.23|              $5374.65|                 $4186.02|\n",
            "|039 - EXTRACRANIA...|      10078|NORTHEAST ALABAMA...|   400 EAST 10TH STREET|     ANNISTON|            AL|            36207|                     AL - Birmingham|              21|              $31110.85|              $5366.23|                 $4376.23|\n",
            "|039 - EXTRACRANIA...|      10083|SOUTH BALDWIN REG...|   1613 NORTH MCKENZ...|        FOLEY|            AL|            36535|                         AL - Mobile|              15|              $25411.33|              $5282.93|                 $4383.73|\n",
            "|039 - EXTRACRANIA...|      10085|DECATUR GENERAL H...|     1201 7TH STREET SE|      DECATUR|            AL|            35609|                     AL - Huntsville|              27|               $9234.51|              $5676.55|                 $4509.11|\n",
            "|039 - EXTRACRANIA...|      10090| PROVIDENCE HOSPITAL|   6801 AIRPORT BOUL...|       MOBILE|            AL|            36608|                         AL - Mobile|              27|              $15895.85|              $5930.11|                 $3972.85|\n",
            "|039 - EXTRACRANIA...|      10092|D C H REGIONAL ME...|   809 UNIVERSITY BO...|   TUSCALOOSA|            AL|            35401|                     AL - Tuscaloosa|              31|              $19721.16|              $6192.54|                 $5179.38|\n",
            "|039 - EXTRACRANIA...|      10100|     THOMAS HOSPITAL|      750 MORPHY AVENUE|     FAIRHOPE|            AL|            36532|                         AL - Mobile|              18|              $10710.88|              $4968.00|                 $3898.88|\n",
            "|039 - EXTRACRANIA...|      10103|BAPTIST MEDICAL C...|   701 PRINCETON AVE...|   BIRMINGHAM|            AL|            35211|                     AL - Birmingham|              33|              $51343.75|              $5996.00|                 $4962.45|\n",
            "+--------------------+-----------+--------------------+-----------------------+-------------+--------------+-----------------+------------------------------------+----------------+-----------------------+----------------------+-------------------------+\n",
            "only showing top 20 rows\n",
            "\n"
          ]
        }
      ]
    },
    {
      "cell_type": "code",
      "source": [
        "#Identify all rows with Null values for provider id\n",
        "from pyspark.sql.functions import isnull\n",
        "null_rows = df.filter(isnull(\"provider_id\"))\n",
        "null_rows.show()\n",
        "null_count = null_rows.count()"
      ],
      "metadata": {
        "id": "DXRoYwGVQjHK",
        "colab": {
          "base_uri": "https://localhost:8080/"
        },
        "outputId": "f35fde09-7acf-47eb-aa1b-7708da03de20"
      },
      "execution_count": 90,
      "outputs": [
        {
          "output_type": "stream",
          "name": "stdout",
          "text": [
            "+--------------+-----------+-------------+-----------------------+-------------+--------------+-----------------+------------------------------------+----------------+-----------------------+----------------------+-------------------------+\n",
            "|drg_definition|provider_id|provider_name|provider_street_address|provider_city|provider_state|provider_zip_code|hospital_referral_region_description|total_discharges|average_covered_charges|average_total_payments|average_medicare_payments|\n",
            "+--------------+-----------+-------------+-----------------------+-------------+--------------+-----------------+------------------------------------+----------------+-----------------------+----------------------+-------------------------+\n",
            "+--------------+-----------+-------------+-----------------------+-------------+--------------+-----------------+------------------------------------+----------------+-----------------------+----------------------+-------------------------+\n",
            "\n"
          ]
        }
      ]
    },
    {
      "cell_type": "code",
      "source": [
        "null_count = null_rows.count()\n",
        "null_count"
      ],
      "metadata": {
        "colab": {
          "base_uri": "https://localhost:8080/"
        },
        "id": "LKbx6n3tX_Ec",
        "outputId": "005c236a-30f9-4766-acf7-b9b5aef52bad"
      },
      "execution_count": 91,
      "outputs": [
        {
          "output_type": "execute_result",
          "data": {
            "text/plain": [
              "0"
            ]
          },
          "metadata": {},
          "execution_count": 91
        }
      ]
    },
    {
      "cell_type": "code",
      "source": [
        "#Change fields with Payment information into numbers by using Lambda functions in python\n",
        "\n",
        "from pyspark.sql.types import IntegerType,DoubleType\n",
        "from pyspark.sql.functions import udf\n",
        "\n",
        "remove_dollar_sign = udf(lambda x: float(x.replace(\"$\", \"\")), DoubleType())\n",
        "columns_to_transform = ['average_covered_charges', 'average_total_payments', 'average_medicare_payments']\n",
        "for column in columns_to_transform:\n",
        "    df = df.withColumn(column, remove_dollar_sign(df[column]))\n",
        "row_count = df.count()\n",
        "row_count"
      ],
      "metadata": {
        "id": "zF-wpjH2RJ7h",
        "colab": {
          "base_uri": "https://localhost:8080/"
        },
        "outputId": "dac167e5-abc9-45d9-85a6-8837373b9a98"
      },
      "execution_count": 103,
      "outputs": [
        {
          "output_type": "execute_result",
          "data": {
            "text/plain": [
              "163065"
            ]
          },
          "metadata": {},
          "execution_count": 103
        }
      ]
    },
    {
      "cell_type": "code",
      "source": [
        "df.printSchema()"
      ],
      "metadata": {
        "colab": {
          "base_uri": "https://localhost:8080/"
        },
        "id": "GkCAK7TG4Xg0",
        "outputId": "233665f7-5b86-47c7-bdf7-6e971595735b"
      },
      "execution_count": 97,
      "outputs": [
        {
          "output_type": "stream",
          "name": "stdout",
          "text": [
            "root\n",
            " |-- drg_definition: string (nullable = true)\n",
            " |-- provider_id: string (nullable = true)\n",
            " |-- provider_name: string (nullable = true)\n",
            " |-- provider_street_address: string (nullable = true)\n",
            " |-- provider_city: string (nullable = true)\n",
            " |-- provider_state: string (nullable = true)\n",
            " |-- provider_zip_code: string (nullable = true)\n",
            " |-- hospital_referral_region_description: string (nullable = true)\n",
            " |-- total_discharges: string (nullable = true)\n",
            " |-- average_covered_charges: double (nullable = true)\n",
            " |-- average_total_payments: double (nullable = true)\n",
            " |-- average_medicare_payments: double (nullable = true)\n",
            "\n"
          ]
        }
      ]
    },
    {
      "cell_type": "code",
      "source": [
        "#Plot a Bar chart by state and \"Average Total Payments\" and zip code vs \"total_charges\""
      ],
      "metadata": {
        "id": "52t4pR-BR8qG"
      },
      "execution_count": null,
      "outputs": []
    },
    {
      "cell_type": "code",
      "source": [
        "import matplotlib.pyplot as plt\n",
        "import pandas as pd\n",
        "\n",
        "# Convert PySpark DataFrame to Pandas DataFrame\n",
        "pandas_df = df.toPandas()\n",
        "\n",
        "# Group data by state and calculate average total payments\n",
        "grouped_df = pandas_df.groupby(\"provider_state\").mean()[\"average_total_payments\"]\n",
        "\n",
        "# Plot bar chart\n",
        "grouped_df.plot(kind='bar')\n",
        "\n",
        "# Show plot\n",
        "plt.show()"
      ],
      "metadata": {
        "id": "v8032Gkiky7L"
      },
      "execution_count": null,
      "outputs": []
    },
    {
      "cell_type": "code",
      "source": [
        "unique_values = df.select(\"drg_definition\").distinct().rdd.map(lambda row: row[0]).take(100)"
      ],
      "metadata": {
        "id": "fGJtZxqkkzMm"
      },
      "execution_count": null,
      "outputs": []
    },
    {
      "cell_type": "code",
      "source": [],
      "metadata": {
        "id": "UlmU26b-CVGs"
      },
      "execution_count": null,
      "outputs": []
    },
    {
      "cell_type": "code",
      "source": [],
      "metadata": {
        "id": "TNMTDN2pCVQA"
      },
      "execution_count": null,
      "outputs": []
    },
    {
      "cell_type": "code",
      "source": [],
      "metadata": {
        "id": "ZoLIslyzCVZa"
      },
      "execution_count": null,
      "outputs": []
    },
    {
      "cell_type": "code",
      "source": [],
      "metadata": {
        "id": "KlpaRvhNCVg1"
      },
      "execution_count": null,
      "outputs": []
    },
    {
      "cell_type": "code",
      "source": [
        "#BONUS - Plot intersting statistics from the dataset\n",
        "\n",
        "pdf[\"provider_city\"].plot.hist()"
      ],
      "metadata": {
        "id": "6unkHfqBSahu"
      },
      "execution_count": null,
      "outputs": []
    },
    {
      "cell_type": "code",
      "source": [
        "#Write the Dataset to a Parquet format partitioned by State\n",
        "\n",
        "df.write.partitionBy(\"provider_state\").parquet(\"C:\\Users\\ABC\\Documents\\\")"
      ],
      "metadata": {
        "id": "9G_U_KWzSfnq",
        "colab": {
          "base_uri": "https://localhost:8080/",
          "height": 135
        },
        "outputId": "cf52e193-81fe-4bc6-d59d-8e2d931ef1fe"
      },
      "execution_count": 100,
      "outputs": [
        {
          "output_type": "error",
          "ename": "SyntaxError",
          "evalue": "ignored",
          "traceback": [
            "\u001b[0;36m  File \u001b[0;32m\"<ipython-input-100-0d6d000cf2cd>\"\u001b[0;36m, line \u001b[0;32m3\u001b[0m\n\u001b[0;31m    df.write.partitionBy(\"provider_state\").parquet(\"C:\\Users\\ABC\\Documents\\\")\u001b[0m\n\u001b[0m                                                                             ^\u001b[0m\n\u001b[0;31mSyntaxError\u001b[0m\u001b[0;31m:\u001b[0m EOL while scanning string literal\n"
          ]
        }
      ]
    },
    {
      "cell_type": "code",
      "source": [],
      "metadata": {
        "id": "ddxUjpuMAN91"
      },
      "execution_count": null,
      "outputs": []
    }
  ]
}